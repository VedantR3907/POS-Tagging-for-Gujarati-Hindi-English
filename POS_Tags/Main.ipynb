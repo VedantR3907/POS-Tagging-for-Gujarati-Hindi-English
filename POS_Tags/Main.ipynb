{
 "cells": [
  {
   "cell_type": "code",
   "execution_count": 11,
   "metadata": {},
   "outputs": [],
   "source": [
    "from POS_TAGGER import POS_Tagger"
   ]
  },
  {
   "cell_type": "code",
   "execution_count": 12,
   "metadata": {},
   "outputs": [],
   "source": [
    "#वर्षा की बूँदें भूमि को सजाती हैं और प्रकृति की सुंदरता को नया जीवन देती है। गर्मियों में यह सुखद रिमझिम आकर्षित करती है।\n",
    "#મારો મિત્ર# @ ગમ્યો છે મહેનત થી વેદાંત!\n",
    "#The sun set over the horizon, painting the sky with brilliant shades of orange and pink. As the day gave way to night, the stars began to twinkle in the darkening firmament. A gentle breeze rustled the leaves in the trees, creating a soothing symphony of nature.\n",
    "#Hello, नमस्ते, how are you today? વેદાંત सजाती सुंदरता મહેનત છે\n",
    "\n",
    "\n",
    "\n",
    "a = POS_Tagger('Hello, नमस्ते, how are you today? વેદાંત सजाती सुंदरता મહેનત છે', Mixed = True)"
   ]
  },
  {
   "cell_type": "code",
   "execution_count": 13,
   "metadata": {},
   "outputs": [
    {
     "name": "stdout",
     "output_type": "stream",
     "text": [
      "Hello\t------▶ NNP\n",
      "नमस्ते\t------▶\tNN\n",
      ",\t------▶\tPUNC\n",
      "how\t------▶ WRB\n",
      "are\t------▶ VBP\n",
      "you\t------▶ PRP\n",
      "today\t------▶ NN\n",
      "વેદાંત\t------▶\tNoun\n",
      "सजाती\t------▶\tNN\n",
      "सुंदरता\t------▶\tNN\n",
      "મહેનત\t------▶\tNoun\n",
      "છે\t------▶\tVerb\n"
     ]
    }
   ],
   "source": [
    "a.POS_Tags()"
   ]
  },
  {
   "cell_type": "code",
   "execution_count": null,
   "metadata": {},
   "outputs": [],
   "source": []
  }
 ],
 "metadata": {
  "kernelspec": {
   "display_name": "Python 3",
   "language": "python",
   "name": "python3"
  },
  "language_info": {
   "codemirror_mode": {
    "name": "ipython",
    "version": 3
   },
   "file_extension": ".py",
   "mimetype": "text/x-python",
   "name": "python",
   "nbconvert_exporter": "python",
   "pygments_lexer": "ipython3",
   "version": "3.10.11"
  }
 },
 "nbformat": 4,
 "nbformat_minor": 2
}
